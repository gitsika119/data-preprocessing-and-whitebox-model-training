{
  "nbformat": 4,
  "nbformat_minor": 0,
  "metadata": {
    "colab": {
      "provenance": []
    },
    "kernelspec": {
      "name": "python3",
      "display_name": "Python 3"
    },
    "language_info": {
      "name": "python"
    }
  },
  "cells": [
    {
      "cell_type": "code",
      "source": [
        "# Library imports can go here. As always, you can import more as needed!\n",
        "import pandas as pd\n",
        "import numpy as np\n",
        "from sklearn.model_selection import train_test_split\n",
        "from sklearn.preprocessing import LabelEncoder\n",
        "from sklearn.ensemble import RandomForestClassifier\n",
        "from sklearn.metrics import accuracy_score, classification_report, confusion_matrix\n",
        "from google.colab import drive\n",
        "\n",
        "# Loads the file\n",
        "#file = \"corrupted_titanic_data.csv\"\n",
        "#df = pd.read_csv(file)\n",
        "#(NOT WORKING MOUNTED REPO CLONE FROM GDRIVE)\n",
        "\n",
        "drive.mount('/content/drive')\n",
        "import os\n",
        "repo_path = \"/content/drive/My Drive/proj1\"\n",
        "os.chdir(repo_path)\n",
        "#load the dataset\n",
        "file_path = os.path.join(repo_path, \"corrupted_titanic_data.csv\")\n",
        "df = pd.read_csv(file_path)\n",
        "\n",
        "# <------------ TODO ----------------------->\n",
        "# Drop all the rows with null values\n",
        "# (TIP: make sure to reset the index after dropping)\n",
        "df.dropna(inplace=True)\n",
        "df.reset_index(drop=True, inplace=True)\n",
        "\n",
        "# <------------ TODO ----------------------->\n",
        "# Drop all the feature columns that you may think are not necessary for the model's evaluation\n",
        "# (HINT: around 6-8 columns!)\n",
        "columns_to_drop = [\"class\", \"who\", \"adult_male\", \"deck\", \"alive\", \"alone\", \"pclass_redundant\", \"fare_age_com\"]\n",
        "df.drop(columns=[col for col in columns_to_drop if col in df.columns], inplace=True)\n",
        "\n",
        "# <------------ TODO ----------------------->\n",
        "# Clean any relevant columns here\n",
        "# (TIP: Pay attention to the values in the column)\n",
        "\n",
        "df[\"sex\"] = df[\"sex\"].str.lower().str.strip()\n",
        "df[\"embarked\"] = df[\"embarked\"].str.upper().str.strip()\n",
        "df[\"age\"] = pd.to_numeric(df[\"age\"], errors=\"coerce\")  # Ensure numeric\n",
        "df.loc[df[\"age\"] > 100, \"age\"] = np.nan  # Set extreme values to NaN\n",
        "df[\"age\"] = df[\"age\"].fillna(df[\"age\"].median())\n",
        "# <------------ TODO ----------------------->\n",
        "# Encode all the text values to numeric ones\n",
        "# (TIP: Double-check your final dataframe at this point before moving on)\n",
        "# Encode 'sex' column\n",
        "df[\"sex\"] = df[\"sex\"].map({\"male\": 0, \"female\": 1})\n",
        "# Encode 'embarked' column\n",
        "df[\"embarked\"] = df[\"embarked\"].map({\"S\": 0, \"C\": 1, \"Q\": 2})\n",
        "# Select features for training\n",
        "features = [\"pclass\", \"sex\", \"age\", \"sibsp\", \"parch\", \"fare\", \"embarked\"]\n",
        "X = df[features]  # Independent variables\n",
        "y = df[\"survived\"]  # Target variable\n",
        "\n",
        "# Train-test split\n",
        "X_train, X_test, y_train, y_test = train_test_split(X, y, test_size=0.2, random_state=42)\n",
        "\n",
        "# <------------ TODO ----------------------->\n",
        "# Create and train a classification model of your choosing\n",
        "# Initialize and train Random Forest classifier (Linear and Logistic regression were giving v low accuracy)\n",
        "model = RandomForestClassifier(n_estimators=100, random_state=42)\n",
        "model.fit(X_train, y_train)\n",
        "# Make predictions\n",
        "y_pred = model.predict(X_test)\n",
        "\n",
        "# Print the accuracy, classification report, and the confusion matrix\n",
        "accuracy = accuracy_score(y_test, y_pred)\n",
        "print(f\"Accuracy: {accuracy:.4f}\")\n",
        "print(\"Classification Report:\\n\", classification_report(y_test, y_pred))\n",
        "print(\"Confusion Matrix:\\n\", confusion_matrix(y_test, y_pred))\n"
      ],
      "metadata": {
        "colab": {
          "base_uri": "https://localhost:8080/"
        },
        "id": "diYv82D9IygB",
        "outputId": "1df1d6c3-aa0c-4542-8f31-5dfcdf5bf044"
      },
      "execution_count": 28,
      "outputs": [
        {
          "output_type": "stream",
          "name": "stdout",
          "text": [
            "Drive already mounted at /content/drive; to attempt to forcibly remount, call drive.mount(\"/content/drive\", force_remount=True).\n",
            "Accuracy: 0.7500\n",
            "Classification Report:\n",
            "               precision    recall  f1-score   support\n",
            "\n",
            "           0       0.00      0.00      0.00         5\n",
            "           1       0.78      0.95      0.86        19\n",
            "\n",
            "    accuracy                           0.75        24\n",
            "   macro avg       0.39      0.47      0.43        24\n",
            "weighted avg       0.62      0.75      0.68        24\n",
            "\n",
            "Confusion Matrix:\n",
            " [[ 0  5]\n",
            " [ 1 18]]\n"
          ]
        }
      ]
    }
  ]
}